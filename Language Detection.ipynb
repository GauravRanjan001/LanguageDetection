{
  "cells": [
    {
      "cell_type": "code",
      "execution_count": 1,
      "metadata": {
        "colab": {
          "base_uri": "https://localhost:8080/"
        },
        "id": "daarQvOI9ao3",
        "outputId": "af337b88-74af-4f32-a4fd-447df770c172"
      },
      "outputs": [
        {
          "name": "stderr",
          "output_type": "stream",
          "text": [
            "[nltk_data] Downloading package stopwords to\n",
            "[nltk_data]     C:\\Users\\GR_Admin\\AppData\\Roaming\\nltk_data...\n",
            "[nltk_data]   Package stopwords is already up-to-date!\n"
          ]
        }
      ],
      "source": [
        "import pandas as pd\n",
        "import seaborn as sns\n",
        "import matplotlib.pyplot as plt\n",
        "import re\n",
        "import nltk\n",
        "nltk.download('stopwords')\n",
        "from nltk.corpus import stopwords\n",
        "from sklearn.feature_extraction.text import CountVectorizer\n",
        "from sklearn.model_selection import train_test_split\n",
        "from sklearn.naive_bayes import MultinomialNB\n",
        "from sklearn.linear_model import LogisticRegression\n",
        "from nltk.tokenize import RegexpTokenizer"
      ]
    },
    {
      "cell_type": "code",
      "execution_count": 2,
      "metadata": {
        "id": "YzgeMyWK_F_d"
      },
      "outputs": [],
      "source": [
        "stopwords = set(stopwords.words('english'))\n",
        "regexp = RegexpTokenizer('\\w+')"
      ]
    },
    {
      "cell_type": "code",
      "execution_count": 3,
      "metadata": {
        "id": "kUkhVhIP_H59"
      },
      "outputs": [],
      "source": [
        "df = pd.read_csv(\"Language Detection.csv\")"
      ]
    },
    {
      "cell_type": "code",
      "execution_count": 4,
      "metadata": {
        "colab": {
          "base_uri": "https://localhost:8080/",
          "height": 206
        },
        "id": "2v2HMv6j_U4g",
        "outputId": "0dcd40ca-119c-4aac-8677-2a147dcb5024"
      },
      "outputs": [
        {
          "data": {
            "application/vnd.microsoft.datawrangler.viewer.v0+json": {
              "columns": [
                {
                  "name": "index",
                  "rawType": "int64",
                  "type": "integer"
                },
                {
                  "name": "Text",
                  "rawType": "object",
                  "type": "string"
                },
                {
                  "name": "Language",
                  "rawType": "object",
                  "type": "string"
                }
              ],
              "conversionMethod": "pd.DataFrame",
              "ref": "4803b76c-ebff-43a1-be92-f20c7d558886",
              "rows": [
                [
                  "0",
                  " Nature, in the broadest sense, is the natural, physical, material world or universe.",
                  "English"
                ],
                [
                  "1",
                  "\"Nature\" can refer to the phenomena of the physical world, and also to life in general.",
                  "English"
                ],
                [
                  "2",
                  "The study of nature is a large, if not the only, part of science.",
                  "English"
                ],
                [
                  "3",
                  "Although humans are part of nature, human activity is often understood as a separate category from other natural phenomena.",
                  "English"
                ],
                [
                  "4",
                  "[1] The word nature is borrowed from the Old French nature and is derived from the Latin word natura, or \"essential qualities, innate disposition\", and in ancient times, literally meant \"birth\".",
                  "English"
                ]
              ],
              "shape": {
                "columns": 2,
                "rows": 5
              }
            },
            "text/html": [
              "<div>\n",
              "<style scoped>\n",
              "    .dataframe tbody tr th:only-of-type {\n",
              "        vertical-align: middle;\n",
              "    }\n",
              "\n",
              "    .dataframe tbody tr th {\n",
              "        vertical-align: top;\n",
              "    }\n",
              "\n",
              "    .dataframe thead th {\n",
              "        text-align: right;\n",
              "    }\n",
              "</style>\n",
              "<table border=\"1\" class=\"dataframe\">\n",
              "  <thead>\n",
              "    <tr style=\"text-align: right;\">\n",
              "      <th></th>\n",
              "      <th>Text</th>\n",
              "      <th>Language</th>\n",
              "    </tr>\n",
              "  </thead>\n",
              "  <tbody>\n",
              "    <tr>\n",
              "      <th>0</th>\n",
              "      <td>Nature, in the broadest sense, is the natural...</td>\n",
              "      <td>English</td>\n",
              "    </tr>\n",
              "    <tr>\n",
              "      <th>1</th>\n",
              "      <td>\"Nature\" can refer to the phenomena of the phy...</td>\n",
              "      <td>English</td>\n",
              "    </tr>\n",
              "    <tr>\n",
              "      <th>2</th>\n",
              "      <td>The study of nature is a large, if not the onl...</td>\n",
              "      <td>English</td>\n",
              "    </tr>\n",
              "    <tr>\n",
              "      <th>3</th>\n",
              "      <td>Although humans are part of nature, human acti...</td>\n",
              "      <td>English</td>\n",
              "    </tr>\n",
              "    <tr>\n",
              "      <th>4</th>\n",
              "      <td>[1] The word nature is borrowed from the Old F...</td>\n",
              "      <td>English</td>\n",
              "    </tr>\n",
              "  </tbody>\n",
              "</table>\n",
              "</div>"
            ],
            "text/plain": [
              "                                                Text Language\n",
              "0   Nature, in the broadest sense, is the natural...  English\n",
              "1  \"Nature\" can refer to the phenomena of the phy...  English\n",
              "2  The study of nature is a large, if not the onl...  English\n",
              "3  Although humans are part of nature, human acti...  English\n",
              "4  [1] The word nature is borrowed from the Old F...  English"
            ]
          },
          "execution_count": 4,
          "metadata": {},
          "output_type": "execute_result"
        }
      ],
      "source": [
        "df.head()"
      ]
    },
    {
      "cell_type": "code",
      "execution_count": 5,
      "metadata": {
        "colab": {
          "base_uri": "https://localhost:8080/"
        },
        "id": "4twMTKhZ_WH8",
        "outputId": "382d6429-5f19-4b38-928c-dcf1dc5cee2f"
      },
      "outputs": [
        {
          "name": "stdout",
          "output_type": "stream",
          "text": [
            "<class 'pandas.core.frame.DataFrame'>\n",
            "RangeIndex: 10337 entries, 0 to 10336\n",
            "Data columns (total 2 columns):\n",
            " #   Column    Non-Null Count  Dtype \n",
            "---  ------    --------------  ----- \n",
            " 0   Text      10337 non-null  object\n",
            " 1   Language  10337 non-null  object\n",
            "dtypes: object(2)\n",
            "memory usage: 161.6+ KB\n"
          ]
        }
      ],
      "source": [
        "df.info()"
      ]
    },
    {
      "cell_type": "code",
      "execution_count": 6,
      "metadata": {
        "colab": {
          "base_uri": "https://localhost:8080/",
          "height": 147
        },
        "id": "Jajduwjq_aFI",
        "outputId": "377f51c3-8ae5-467b-ee30-e65d2766eb35"
      },
      "outputs": [
        {
          "data": {
            "text/plain": [
              "Text        0\n",
              "Language    0\n",
              "dtype: int64"
            ]
          },
          "execution_count": 6,
          "metadata": {},
          "output_type": "execute_result"
        }
      ],
      "source": [
        "df.isnull().sum()"
      ]
    },
    {
      "cell_type": "code",
      "execution_count": 7,
      "metadata": {
        "colab": {
          "base_uri": "https://localhost:8080/"
        },
        "id": "KGbXmWEg_eLk",
        "outputId": "ea0acac0-1029-4ddc-9ec6-d7d5119899c3"
      },
      "outputs": [
        {
          "data": {
            "text/plain": [
              "(10337, 2)"
            ]
          },
          "execution_count": 7,
          "metadata": {},
          "output_type": "execute_result"
        }
      ],
      "source": [
        "df.shape"
      ]
    },
    {
      "cell_type": "code",
      "execution_count": 8,
      "metadata": {
        "colab": {
          "base_uri": "https://localhost:8080/"
        },
        "id": "Ghz6ax7V_iL5",
        "outputId": "569abd8a-f3c2-49d6-e685-fa5bd3f6e453"
      },
      "outputs": [
        {
          "data": {
            "text/plain": [
              "array(['English', 'Malayalam', 'Hindi', 'Tamil', 'Portugeese', 'French',\n",
              "       'Dutch', 'Spanish', 'Greek', 'Russian', 'Danish', 'Italian',\n",
              "       'Turkish', 'Sweedish', 'Arabic', 'German', 'Kannada'], dtype=object)"
            ]
          },
          "execution_count": 8,
          "metadata": {},
          "output_type": "execute_result"
        }
      ],
      "source": [
        "df['Language'].unique()"
      ]
    },
    {
      "cell_type": "code",
      "execution_count": 9,
      "metadata": {
        "colab": {
          "base_uri": "https://localhost:8080/"
        },
        "id": "tORwQ0Mu_mej",
        "outputId": "29fef8fe-e0c6-4ce9-cbc3-ffccf59e830e"
      },
      "outputs": [
        {
          "data": {
            "text/plain": [
              "17"
            ]
          },
          "execution_count": 9,
          "metadata": {},
          "output_type": "execute_result"
        }
      ],
      "source": [
        "df['Language'].nunique()"
      ]
    },
    {
      "cell_type": "code",
      "execution_count": 10,
      "metadata": {
        "colab": {
          "base_uri": "https://localhost:8080/",
          "height": 914
        },
        "id": "lLjz3V84_qQy",
        "outputId": "cb3189c1-af95-47b6-ad13-d2a69343b818"
      },
      "outputs": [
        {
          "data": {
            "image/png": "[encoded data removed]",
            "text/plain": [
              "<Figure size 1000x1000 with 1 Axes>"
            ]
          },
          "metadata": {},
          "output_type": "display_data"
        }
      ],
      "source": [
        "plt.figure(figsize = (10,10))\n",
        "sns.countplot(data = df , x = 'Language')\n",
        "plt.xticks(rotation = 90);"
      ]
    },
    {
      "cell_type": "code",
      "execution_count": 11,
      "metadata": {
        "colab": {
          "base_uri": "https://localhost:8080/",
          "height": 649
        },
        "id": "_KEkOnvX_tBn",
        "outputId": "d5f6b5c7-3e10-4b10-b4aa-5c55e20d9ba0"
      },
      "outputs": [
        {
          "data": {
            "text/plain": [
              "Language\n",
              "English       1385\n",
              "French        1014\n",
              "Spanish        819\n",
              "Portugeese     739\n",
              "Italian        698\n",
              "Russian        692\n",
              "Sweedish       676\n",
              "Malayalam      594\n",
              "Dutch          546\n",
              "Arabic         536\n",
              "Turkish        474\n",
              "German         470\n",
              "Tamil          469\n",
              "Danish         428\n",
              "Kannada        369\n",
              "Greek          365\n",
              "Hindi           63\n",
              "Name: count, dtype: int64"
            ]
          },
          "execution_count": 11,
          "metadata": {},
          "output_type": "execute_result"
        }
      ],
      "source": [
        "df['Language'].value_counts()"
      ]
    },
    {
      "cell_type": "markdown",
      "metadata": {
        "id": "k4hPBeSM_5Zo"
      },
      "source": [
        "This dataset is imbalance\n",
        "\n",
        "this dataset is bias towards English language\n",
        "\n",
        "to convert from imbalance to balance dataset,\n",
        "\n",
        "we will be using downsampling Technique"
      ]
    },
    {
      "cell_type": "markdown",
      "metadata": {
        "id": "coOK0FXh_647"
      },
      "source": [
        "downsampling is nothing but let's take an example\n",
        "\n",
        "in our dataset we have 3 language\n",
        "\n",
        "English\n",
        "Spanish\n",
        "Dutch\n",
        "English has 1000 values\n",
        "\n",
        "Spanish has 800 values\n",
        "\n",
        "Dutch has 700 values\n",
        "\n",
        "So in the english, instead of taking 1000 values we will be taking 700 values\n",
        "\n",
        "same goes to spanish, instead of taking 800 values we will be taking 700 values"
      ]
    },
    {
      "cell_type": "code",
      "execution_count": 12,
      "metadata": {
        "id": "8UxR9nUiAAFm"
      },
      "outputs": [],
      "source": [
        "Greek = df[df['Language'] == 'Greek']"
      ]
    },
    {
      "cell_type": "code",
      "execution_count": 13,
      "metadata": {
        "id": "UNaQsE9DAGME"
      },
      "outputs": [],
      "source": [
        "English = df[df['Language']=='English']\n",
        "Portugeese = df[df['Language']=='Portugeese']\n",
        "French = df[df['Language']=='French']\n",
        "Dutch = df[df['Language']=='Dutch']\n",
        "Spanish = df[df['Language']=='Spanish']\n",
        "Russian = df[df['Language']=='Russian']\n",
        "Danish = df[df['Language']=='Danish']\n",
        "Italian = df[df['Language']=='Italian']\n",
        "Turkish = df[df['Language']=='Turkish']\n",
        "Sweedish = df[df['Language']=='Sweedish']\n",
        "German = df[df['Language']=='German']"
      ]
    },
    {
      "cell_type": "code",
      "execution_count": 14,
      "metadata": {
        "id": "WM7153TYAKDK"
      },
      "outputs": [],
      "source": [
        "from sklearn.utils import resample"
      ]
    },
    {
      "cell_type": "code",
      "execution_count": 16,
      "metadata": {
        "id": "mlcxg9auAMvD"
      },
      "outputs": [],
      "source": [
        "english_downsample = resample(English,\n",
        "                              replace = True,\n",
        "                              n_samples = len(Greek),\n",
        "                              random_state = 42)\n",
        "Portugeese_downsample = resample(Portugeese,\n",
        "                              replace = True,\n",
        "                              n_samples = len(Greek),\n",
        "                              random_state = 42)\n",
        "French_downsample = resample(French,\n",
        "                              replace = True,\n",
        "                              n_samples = len(Greek),\n",
        "                              random_state = 42)\n",
        "Dutch_downsample = resample(Dutch,\n",
        "                              replace = True,\n",
        "                              n_samples = len(Greek),\n",
        "                              random_state = 42)\n",
        "Spanish_downsample = resample(Spanish,\n",
        "                              replace = True,\n",
        "                              n_samples = len(Greek),\n",
        "                              random_state = 42)\n",
        "Russian_downsample = resample(Russian,\n",
        "                              replace = True,\n",
        "                              n_samples = len(Greek),\n",
        "                              random_state = 42)\n",
        "Danish_downsample = resample(Danish,\n",
        "                              replace = True,\n",
        "                              n_samples = len(Greek),\n",
        "                              random_state = 42)\n",
        "Italian_downsample = resample(Italian,\n",
        "                              replace = True,\n",
        "                              n_samples = len(Greek),\n",
        "                              random_state = 42)\n",
        "Turkish_downsample = resample(Turkish,\n",
        "                              replace = True,\n",
        "                              n_samples = len(Greek),\n",
        "                              random_state = 42)\n",
        "Sweedish_downsample = resample(Sweedish,\n",
        "                              replace = True,\n",
        "                              n_samples = len(Greek),\n",
        "                              random_state = 42)\n",
        "German_downsample = resample(German,\n",
        "                              replace = True,\n",
        "                              n_samples = len(Greek),\n",
        "                              random_state = 42)"
      ]
    },
    {
      "cell_type": "code",
      "execution_count": 17,
      "metadata": {
        "id": "ZnwgC8VgAYnB"
      },
      "outputs": [],
      "source": [
        "data_downsample = pd.concat([\n",
        "    english_downsample,\n",
        "    Portugeese_downsample,\n",
        "    French_downsample,\n",
        "    Dutch_downsample,\n",
        "    Spanish_downsample,\n",
        "    Russian_downsample,\n",
        "    Danish_downsample,\n",
        "    Italian_downsample,\n",
        "    Turkish_downsample,\n",
        "    Sweedish_downsample,\n",
        "    German_downsample,\n",
        "    Greek\n",
        "])"
      ]
    },
    {
      "cell_type": "code",
      "execution_count": 18,
      "metadata": {
        "colab": {
          "base_uri": "https://localhost:8080/",
          "height": 206
        },
        "id": "S3VluAsZAdmp",
        "outputId": "e4783ee3-82bd-4383-be49-149aab8cbe2b"
      },
      "outputs": [
        {
          "data": {
            "application/vnd.microsoft.datawrangler.viewer.v0+json": {
              "columns": [
                {
                  "name": "index",
                  "rawType": "int64",
                  "type": "integer"
                },
                {
                  "name": "Text",
                  "rawType": "object",
                  "type": "string"
                },
                {
                  "name": "Language",
                  "rawType": "object",
                  "type": "string"
                }
              ],
              "conversionMethod": "pd.DataFrame",
              "ref": "af2849ea-3e1d-4680-a528-270c7cad0be7",
              "rows": [
                [
                  "1126",
                  "no worries imagine you came home and there are all of your friends sitting on your couch.",
                  "English"
                ],
                [
                  "860",
                  "Due to its generality, the field is studied in many other disciplines, such as game theory, control theory, operations research, information theory, simulation-based optimization, multi-agent systems, swarm intelligence, statistics and genetic algorithms.",
                  "English"
                ],
                [
                  "1294",
                  "unfortunately, i have to say no.",
                  "English"
                ],
                [
                  "1130",
                  "if you ask somebody not to be upset not to cry you can say don't take it to heart.",
                  "English"
                ],
                [
                  "1095",
                  "so if you are just about to embark on your journey.",
                  "English"
                ]
              ],
              "shape": {
                "columns": 2,
                "rows": 5
              }
            },
            "text/html": [
              "<div>\n",
              "<style scoped>\n",
              "    .dataframe tbody tr th:only-of-type {\n",
              "        vertical-align: middle;\n",
              "    }\n",
              "\n",
              "    .dataframe tbody tr th {\n",
              "        vertical-align: top;\n",
              "    }\n",
              "\n",
              "    .dataframe thead th {\n",
              "        text-align: right;\n",
              "    }\n",
              "</style>\n",
              "<table border=\"1\" class=\"dataframe\">\n",
              "  <thead>\n",
              "    <tr style=\"text-align: right;\">\n",
              "      <th></th>\n",
              "      <th>Text</th>\n",
              "      <th>Language</th>\n",
              "    </tr>\n",
              "  </thead>\n",
              "  <tbody>\n",
              "    <tr>\n",
              "      <th>1126</th>\n",
              "      <td>no worries imagine you came home and there are...</td>\n",
              "      <td>English</td>\n",
              "    </tr>\n",
              "    <tr>\n",
              "      <th>860</th>\n",
              "      <td>Due to its generality, the field is studied in...</td>\n",
              "      <td>English</td>\n",
              "    </tr>\n",
              "    <tr>\n",
              "      <th>1294</th>\n",
              "      <td>unfortunately, i have to say no.</td>\n",
              "      <td>English</td>\n",
              "    </tr>\n",
              "    <tr>\n",
              "      <th>1130</th>\n",
              "      <td>if you ask somebody not to be upset not to cry...</td>\n",
              "      <td>English</td>\n",
              "    </tr>\n",
              "    <tr>\n",
              "      <th>1095</th>\n",
              "      <td>so if you are just about to embark on your jou...</td>\n",
              "      <td>English</td>\n",
              "    </tr>\n",
              "  </tbody>\n",
              "</table>\n",
              "</div>"
            ],
            "text/plain": [
              "                                                   Text Language\n",
              "1126  no worries imagine you came home and there are...  English\n",
              "860   Due to its generality, the field is studied in...  English\n",
              "1294                   unfortunately, i have to say no.  English\n",
              "1130  if you ask somebody not to be upset not to cry...  English\n",
              "1095  so if you are just about to embark on your jou...  English"
            ]
          },
          "execution_count": 18,
          "metadata": {},
          "output_type": "execute_result"
        }
      ],
      "source": [
        "data_downsample.head()"
      ]
    },
    {
      "cell_type": "code",
      "execution_count": 19,
      "metadata": {
        "colab": {
          "base_uri": "https://localhost:8080/",
          "height": 492
        },
        "id": "u9APQITIAh6W",
        "outputId": "ca86af08-ca19-4847-91ff-672cb6a75cba"
      },
      "outputs": [
        {
          "data": {
            "text/plain": [
              "Language\n",
              "English       365\n",
              "Portugeese    365\n",
              "French        365\n",
              "Dutch         365\n",
              "Spanish       365\n",
              "Russian       365\n",
              "Danish        365\n",
              "Italian       365\n",
              "Turkish       365\n",
              "Sweedish      365\n",
              "German        365\n",
              "Greek         365\n",
              "Name: count, dtype: int64"
            ]
          },
          "execution_count": 19,
          "metadata": {},
          "output_type": "execute_result"
        }
      ],
      "source": [
        "data_downsample['Language'].value_counts()"
      ]
    },
    {
      "cell_type": "code",
      "execution_count": 20,
      "metadata": {
        "id": "R0FXFBhMAlcq"
      },
      "outputs": [],
      "source": [
        "def clean(text):\n",
        "  text = text.lower()\n",
        "  text = re.sub(r\"[$!@#%^&*()_+-={}:,<?>.]\",\"\",text)\n",
        "  text = regexp.tokenize(text)\n",
        "  text = [word for word in text if word not in stopwords]\n",
        "  text = \" \".join(text)\n",
        "  return text"
      ]
    },
    {
      "cell_type": "code",
      "execution_count": 21,
      "metadata": {
        "id": "QibX-0g1Aqj0"
      },
      "outputs": [],
      "source": [
        "data_downsample['clean_text'] = data_downsample['Text'].apply(clean)"
      ]
    },
    {
      "cell_type": "code",
      "execution_count": 22,
      "metadata": {
        "colab": {
          "base_uri": "https://localhost:8080/",
          "height": 206
        },
        "id": "nLqY-RF0Ate4",
        "outputId": "24cc91d0-ea87-4ed8-94eb-dca3754e39f4"
      },
      "outputs": [
        {
          "data": {
            "application/vnd.microsoft.datawrangler.viewer.v0+json": {
              "columns": [
                {
                  "name": "index",
                  "rawType": "int64",
                  "type": "integer"
                },
                {
                  "name": "Text",
                  "rawType": "object",
                  "type": "string"
                },
                {
                  "name": "Language",
                  "rawType": "object",
                  "type": "string"
                },
                {
                  "name": "clean_text",
                  "rawType": "object",
                  "type": "string"
                }
              ],
              "conversionMethod": "pd.DataFrame",
              "ref": "57df41b1-5099-4f48-b8a0-133912cefcc4",
              "rows": [
                [
                  "1126",
                  "no worries imagine you came home and there are all of your friends sitting on your couch.",
                  "English",
                  "worries imagine came home friends sitting couch"
                ],
                [
                  "860",
                  "Due to its generality, the field is studied in many other disciplines, such as game theory, control theory, operations research, information theory, simulation-based optimization, multi-agent systems, swarm intelligence, statistics and genetic algorithms.",
                  "English",
                  "due generality field studied many disciplines game theory control theory operations research information theory simulationbased optimization multiagent systems swarm intelligence statistics genetic algorithms"
                ],
                [
                  "1294",
                  "unfortunately, i have to say no.",
                  "English",
                  "unfortunately say"
                ],
                [
                  "1130",
                  "if you ask somebody not to be upset not to cry you can say don't take it to heart.",
                  "English",
                  "ask somebody upset cry say take heart"
                ],
                [
                  "1095",
                  "so if you are just about to embark on your journey.",
                  "English",
                  "embark journey"
                ]
              ],
              "shape": {
                "columns": 3,
                "rows": 5
              }
            },
            "text/html": [
              "<div>\n",
              "<style scoped>\n",
              "    .dataframe tbody tr th:only-of-type {\n",
              "        vertical-align: middle;\n",
              "    }\n",
              "\n",
              "    .dataframe tbody tr th {\n",
              "        vertical-align: top;\n",
              "    }\n",
              "\n",
              "    .dataframe thead th {\n",
              "        text-align: right;\n",
              "    }\n",
              "</style>\n",
              "<table border=\"1\" class=\"dataframe\">\n",
              "  <thead>\n",
              "    <tr style=\"text-align: right;\">\n",
              "      <th></th>\n",
              "      <th>Text</th>\n",
              "      <th>Language</th>\n",
              "      <th>clean_text</th>\n",
              "    </tr>\n",
              "  </thead>\n",
              "  <tbody>\n",
              "    <tr>\n",
              "      <th>1126</th>\n",
              "      <td>no worries imagine you came home and there are...</td>\n",
              "      <td>English</td>\n",
              "      <td>worries imagine came home friends sitting couch</td>\n",
              "    </tr>\n",
              "    <tr>\n",
              "      <th>860</th>\n",
              "      <td>Due to its generality, the field is studied in...</td>\n",
              "      <td>English</td>\n",
              "      <td>due generality field studied many disciplines ...</td>\n",
              "    </tr>\n",
              "    <tr>\n",
              "      <th>1294</th>\n",
              "      <td>unfortunately, i have to say no.</td>\n",
              "      <td>English</td>\n",
              "      <td>unfortunately say</td>\n",
              "    </tr>\n",
              "    <tr>\n",
              "      <th>1130</th>\n",
              "      <td>if you ask somebody not to be upset not to cry...</td>\n",
              "      <td>English</td>\n",
              "      <td>ask somebody upset cry say take heart</td>\n",
              "    </tr>\n",
              "    <tr>\n",
              "      <th>1095</th>\n",
              "      <td>so if you are just about to embark on your jou...</td>\n",
              "      <td>English</td>\n",
              "      <td>embark journey</td>\n",
              "    </tr>\n",
              "  </tbody>\n",
              "</table>\n",
              "</div>"
            ],
            "text/plain": [
              "                                                   Text Language  \\\n",
              "1126  no worries imagine you came home and there are...  English   \n",
              "860   Due to its generality, the field is studied in...  English   \n",
              "1294                   unfortunately, i have to say no.  English   \n",
              "1130  if you ask somebody not to be upset not to cry...  English   \n",
              "1095  so if you are just about to embark on your jou...  English   \n",
              "\n",
              "                                             clean_text  \n",
              "1126    worries imagine came home friends sitting couch  \n",
              "860   due generality field studied many disciplines ...  \n",
              "1294                                  unfortunately say  \n",
              "1130              ask somebody upset cry say take heart  \n",
              "1095                                     embark journey  "
            ]
          },
          "execution_count": 22,
          "metadata": {},
          "output_type": "execute_result"
        }
      ],
      "source": [
        "data_downsample.head()"
      ]
    },
    {
      "cell_type": "code",
      "execution_count": 23,
      "metadata": {
        "id": "yiT4uiicA0Vt"
      },
      "outputs": [],
      "source": [
        "x = data_downsample.iloc[:,2]\n",
        "y = data_downsample.iloc[:,1]"
      ]
    },
    {
      "cell_type": "code",
      "execution_count": 24,
      "metadata": {
        "id": "JsfdNZEDA1JB"
      },
      "outputs": [],
      "source": [
        "vectorizer1 = CountVectorizer(ngram_range = (1,3) , analyzer = 'char')"
      ]
    },
    {
      "cell_type": "code",
      "execution_count": 25,
      "metadata": {
        "id": "t5x_JMalA3p9"
      },
      "outputs": [],
      "source": [
        "x1 = vectorizer1.fit_transform(x)"
      ]
    },
    {
      "cell_type": "code",
      "execution_count": 26,
      "metadata": {
        "id": "5SPNDEldA6tL"
      },
      "outputs": [],
      "source": [
        "x_train , x_test , y_train , y_test = train_test_split(x1 , y , test_size = 0.2 , random_state = 42)"
      ]
    },
    {
      "cell_type": "code",
      "execution_count": 27,
      "metadata": {
        "colab": {
          "base_uri": "https://localhost:8080/"
        },
        "id": "XklgokjNBBnt",
        "outputId": "712593e7-463e-4ec9-eba3-2dee9916f3b1"
      },
      "outputs": [
        {
          "data": {
            "text/plain": [
              "0.9771689497716894"
            ]
          },
          "execution_count": 27,
          "metadata": {},
          "output_type": "execute_result"
        }
      ],
      "source": [
        "model1 = MultinomialNB()\n",
        "model1.fit(x_train , y_train)\n",
        "model1.score(x_test , y_test)"
      ]
    },
    {
      "cell_type": "code",
      "execution_count": 33,
      "metadata": {
        "colab": {
          "base_uri": "https://localhost:8080/"
        },
        "id": "69Qx-uA5BG7g",
        "outputId": "5a1c0ceb-d03b-4fda-883d-f38a272254aa"
      },
      "outputs": [
        {
          "name": "stdout",
          "output_type": "stream",
          "text": [
            "['Dutch']\n"
          ]
        }
      ],
      "source": [
        "user = input(\"enter the text: \")\n",
        "text = vectorizer1.transform([user]).toarray()\n",
        "output = model1.predict(text)\n",
        "print(output)"
      ]
    },
    {
      "cell_type": "code",
      "execution_count": 29,
      "metadata": {
        "colab": {
          "base_uri": "https://localhost:8080/"
        },
        "id": "S31BMq-1BHxZ",
        "outputId": "0e1c6ceb-ca07-445e-e6da-74a05fc84661"
      },
      "outputs": [
        {
          "data": {
            "text/plain": [
              "0.9726027397260274"
            ]
          },
          "execution_count": 29,
          "metadata": {},
          "output_type": "execute_result"
        }
      ],
      "source": [
        "model2 = LogisticRegression()\n",
        "model2.fit(x_train , y_train)\n",
        "model2.score(x_test , y_test)"
      ]
    },
    {
      "cell_type": "code",
      "execution_count": 32,
      "metadata": {
        "colab": {
          "base_uri": "https://localhost:8080/"
        },
        "id": "lQbTmj0cBLZo",
        "outputId": "36fda998-dc99-4f64-a00f-9c5287fd1962"
      },
      "outputs": [
        {
          "data": {
            "text/plain": [
              "array(['Russian'], dtype=object)"
            ]
          },
          "execution_count": 32,
          "metadata": {},
          "output_type": "execute_result"
        }
      ],
      "source": [
        "user1 = input(\"Enter the text: \")\n",
        "text1 = vectorizer1.transform([user1]).toarray()\n",
        "model2.predict(text1)"
      ]
    },
    {
      "cell_type": "code",
      "execution_count": 34,
      "metadata": {},
      "outputs": [
        {
          "name": "stdout",
          "output_type": "stream",
          "text": [
            "Model and vectorizer have been saved as pickle files.\n"
          ]
        }
      ],
      "source": [
        "import pickle\n",
        "\n",
        "# Save the trained model (e.g., model1 or model2)\n",
        "with open('language_detection_model.pkl', 'wb') as model_file:\n",
        "    pickle.dump(model1, model_file)  # model1/ model2 \n",
        "\n",
        "# Save the vectorizer\n",
        "with open('vectorizer.pkl', 'wb') as vectorizer_file:\n",
        "    pickle.dump(vectorizer1, vectorizer_file)\n",
        "\n",
        "print(\"Model and vectorizer have been saved as pickle files.\")"
      ]
    }
  ],
  "metadata": {
    "colab": {
      "provenance": []
    },
    "kernelspec": {
      "display_name": "Twitter_venv",
      "language": "python",
      "name": "python3"
    },
    "language_info": {
      "codemirror_mode": {
        "name": "ipython",
        "version": 3
      },
      "file_extension": ".py",
      "mimetype": "text/x-python",
      "name": "python",
      "nbconvert_exporter": "python",
      "pygments_lexer": "ipython3",
      "version": "3.10.11"
    }
  },
  "nbformat": 4,
  "nbformat_minor": 0
}
